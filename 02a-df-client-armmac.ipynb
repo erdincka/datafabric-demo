{
 "cells": [
  {
   "cell_type": "code",
   "execution_count": 1,
   "metadata": {},
   "outputs": [
    {
     "name": "stdout",
     "output_type": "stream",
     "text": [
      "Done\n"
     ]
    }
   ],
   "source": [
    "## Connection details - Edit accordingly\n",
    "\n",
    "CLUSTER_NAME = \"demo.df.io\"\n",
    "REMOTE_HOST = \"ec2-13-40-112-81.eu-west-2.compute.amazonaws.com\"\n",
    "print(\"Done\")\n"
   ]
  },
  {
   "cell_type": "code",
   "execution_count": 4,
   "metadata": {},
   "outputs": [
    {
     "name": "stdout",
     "output_type": "stream",
     "text": [
      "Done\n"
     ]
    }
   ],
   "source": [
    "%%bash\n",
    "[ -f /opt/mapr/bin/mapr ] || wget https://package.mapr.hpe.com/releases/v7.0.0/mac/mapr-client-7.0.0.0.20220209033907.GA-1.x86_64.tar.gz\n",
    "[ -d /opt/mapr ] || sudo tar -C /opt -xzf mapr-client-7.0.0.0.20220209033907.GA-1.x86_64.tar.gz\n",
    "rm -f mapr-client-7.0.0.0.20220209033907.GA-1.x86_64.tar.gz\n",
    "echo Done\n"
   ]
  },
  {
   "cell_type": "code",
   "execution_count": 5,
   "metadata": {},
   "outputs": [
    {
     "name": "stderr",
     "output_type": "stream",
     "text": [
      "Running `brew update --auto-update`...\n",
      "==> Auto-updated Homebrew!\n",
      "Updated 1 tap (homebrew/core).\n",
      "\n",
      "Warning: You are using macOS 13.\n",
      "We do not provide support for this pre-release version.\n",
      "You will encounter build failures with some formulae.\n",
      "Please create pull requests instead of asking for help on Homebrew's GitHub,\n",
      "Twitter or any other official channels. You are responsible for resolving\n",
      "any issues you experience while you are running this\n",
      "pre-release version.\n",
      "\n",
      "Warning: bash 5.1.16 is already installed and up-to-date.\n",
      "To reinstall 5.1.16, run:\n",
      "  brew reinstall bash\n",
      "Warning: gnu-getopt 2.38 is already installed and up-to-date.\n",
      "To reinstall 2.38, run:\n",
      "  brew reinstall gnu-getopt\n",
      "Warning: openssl@1.1 1.1.1q is already installed and up-to-date.\n",
      "To reinstall 1.1.1q, run:\n",
      "  brew reinstall openssl@1.1\n",
      "Warning: openjdk@11 11.0.16 is already installed and up-to-date.\n",
      "To reinstall 11.0.16, run:\n",
      "  brew reinstall openjdk@11\n",
      "2022-08-03 23:39:08.450 sysadminctl[2562:2055093] User named 'mapr' already exists.\n",
      "Warning: openssl@1.1 1.1.1q is already installed and up-to-date.\n",
      "To reinstall 1.1.1q, run:\n",
      "  brew reinstall openssl@1.1\n"
     ]
    },
    {
     "name": "stdout",
     "output_type": "stream",
     "text": [
      "Done\n"
     ]
    }
   ],
   "source": [
    "%%bash\n",
    "\n",
    "# install x86_64 variant of brew\n",
    "[ -f /usr/local/bin/brew ] || arch -x86_64 /bin/bash -c \"$(curl -fsSL https://raw.githubusercontent.com/Homebrew/install/master/install.sh)\"\n",
    "arch -x86_64 /usr/local/bin/brew upgrade\n",
    "arch -x86_64 /usr/local/bin/brew install bash gnu-getopt openssl@1.1 openjdk@11\n",
    "# Create mapr user\n",
    "sudo sysadminctl -addUser mapr -fullName 'DF Admin' -UID 5000 -GID 5000 -shell /usr/local/bin/bash -home /opt/mapr\n",
    "# launch x86_64 shell\n",
    "arch -x86_64 /usr/local/bin/bash\n",
    "# Update paths/\n",
    "[ -f /opt/mapr/.bashrc ] || rm /opt/mapr/.bashrc\n",
    "echo '[[ -f /opt/mapr/conf/env.sh ]] && export JAVA_HOME=\"$(/usr/libexec/java_home) . /opt/mapr/conf/env.sh\"' >> /opt/mapr/.bashrc\n",
    "echo 'export PATH=\"/usr/local/opt/openssl@1.1/bin:$PATH\"' >> /opt/mapr/.bashrc\n",
    "echo 'export LDFLAGS=\"-L/usr/local/opt/openssl@1.1/lib\"' >> /opt/mapr/.bashrc\n",
    "sudo ln -sfn /usr/local/opt/openjdk@11/libexec/openjdk.jdk /Library/Java/JavaVirtualMachines/openjdk-11.jdk\n",
    "sudo rm -f /usr/local/lib/libssl.1.1.dylib\n",
    "sudo rm -f /usr/local/lib/libcrypto.1.1.dylib\n",
    "sudo ln -s /usr/local/Cellar/openssl@1.1/1.1.1q/lib/libssl.1.1.dylib /usr/local/lib/\n",
    "sudo ln -s /usr/local/Cellar/openssl@1.1/1.1.1q/lib/libcrypto.1.1.dylib /usr/local/lib/\n",
    "\n",
    "arch -x86_64 /usr/local/bin/brew install OpenSSL@1.1\n",
    "OPENSSL_INSTALLED_LOCATION=`/usr/local/bin/brew --prefix openssl@1.1`\n",
    "OPENSSL_LIBRARY_PATH=${OPENSSL_INSTALLED_LOCATION}/lib\n",
    "OPENSSL_PATH=${OPENSSL_INSTALLED_LOCATION}/bin\n",
    "export PATH=${OPENSSL_PATH}:${PATH}\n",
    "LD_LIBRARY_PATH=${OPENSSL_LIBRARY_PATH}:${LD_LIBRARY_PATH}\n",
    "export JAVA_HOME=$(/usr/libexec/java_home)\n",
    "\n",
    "echo Done\n"
   ]
  },
  {
   "cell_type": "code",
   "execution_count": 6,
   "metadata": {},
   "outputs": [
    {
     "name": "stdout",
     "output_type": "stream",
     "text": [
      "Done\n"
     ]
    }
   ],
   "source": [
    "# Copy secure files\n",
    "\n",
    "!sudo cp ssl_truststore /opt/mapr/conf/\n",
    "print(\"Done\")\n"
   ]
  },
  {
   "cell_type": "code",
   "execution_count": 23,
   "metadata": {},
   "outputs": [
    {
     "name": "stdout",
     "output_type": "stream",
     "text": [
      "configuring for demo.df.io on ec2-13-40-112-81.eu-west-2.compute.amazonaws.com\n",
      "Node setup configuration:  hadoop-client hadoop-util\n",
      "Log can be found at:  /opt/mapr/logs/configure.log\n",
      "CLDB node list: ec2-13-40-112-81.eu-west-2.compute.amazonaws.com:7222\n",
      "Zookeeper node list: \n",
      "External Zookeeper node list: \n",
      "Verified that OpenSSL can be successfully loaded\n",
      "MapR credentials of user 'mapr' for cluster 'demo.df.io' are written to '/tmp/maprticket_0'\n",
      "Done\n"
     ]
    }
   ],
   "source": [
    "# Configure client\n",
    "\n",
    "!echo configuring for {CLUSTER_NAME} on {REMOTE_HOST}\n",
    "sedptrn = \"'/^%s/d'\" % CLUSTER_NAME\n",
    "!sed $sedptrn /opt/mapr/conf/mapr-clusters.conf | sudo tee /opt/mapr/conf/mapr-clusters.conf\n",
    "\n",
    "!arch -x86_64 sudo /usr/local/bin/bash /opt/mapr/server/configure.sh -c -N {CLUSTER_NAME} -C {REMOTE_HOST}:7222 -HS {REMOTE_HOST} -secure -a\n",
    "!arch -x86_64 sudo /usr/local/bin/bash -c \"echo mapr | /opt/mapr/bin/maprlogin password -user mapr -cluster {CLUSTER_NAME}\"\n",
    "print(\"Done\")"
   ]
  },
  {
   "cell_type": "markdown",
   "metadata": {},
   "source": [
    "### Client configured"
   ]
  }
 ],
 "metadata": {
  "kernelspec": {
   "display_name": "Python 3.9.13 64-bit",
   "language": "python",
   "name": "python3"
  },
  "language_info": {
   "codemirror_mode": {
    "name": "ipython",
    "version": 3
   },
   "file_extension": ".py",
   "mimetype": "text/x-python",
   "name": "python",
   "nbconvert_exporter": "python",
   "pygments_lexer": "ipython3",
   "version": "3.9.13"
  },
  "orig_nbformat": 4,
  "vscode": {
   "interpreter": {
    "hash": "b0fa6594d8f4cbf19f97940f81e996739fb7646882a419484c72d19e05852a7e"
   }
  }
 },
 "nbformat": 4,
 "nbformat_minor": 2
}
