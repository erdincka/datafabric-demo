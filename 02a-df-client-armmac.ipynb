{
 "cells": [
  {
   "cell_type": "code",
   "execution_count": null,
   "metadata": {},
   "outputs": [],
   "source": [
    "## Connection details - Edit accordingly\n",
    "\n",
    "CLUSTER_NAME = \"demo.df.io\"\n",
    "REMOTE_HOST = \"18.169.241.62\"\n",
    "print(\"Done\")\n"
   ]
  },
  {
   "cell_type": "code",
   "execution_count": null,
   "metadata": {},
   "outputs": [],
   "source": [
    "%%bash\n",
    "[ -f mapr-client-7.0.0.0.20220209033907.GA-1.x86_64.tar.gz ] || wget https://package.mapr.hpe.com/releases/v7.0.0/mac/mapr-client-7.0.0.0.20220209033907.GA-1.x86_64.tar.gz\n",
    "[ -d /opt/mapr ] || sudo tar -C /opt -xzf mapr-client-7.0.0.0.20220209033907.GA-1.x86_64.tar.gz\n",
    "echo Done\n"
   ]
  },
  {
   "cell_type": "code",
   "execution_count": null,
   "metadata": {},
   "outputs": [],
   "source": [
    "%%bash\n",
    "\n",
    "# install x86_64 variant of brew\n",
    "[ -f /usr/local/bin/brew ] || arch -x86_64 /bin/bash -c \"$(curl -fsSL https://raw.githubusercontent.com/Homebrew/install/master/install.sh)\"\n",
    "arch -x86_64 /usr/local/bin/brew upgrade\n",
    "arch -x86_64 /usr/local/bin/brew install bash gnu-getopt openssl@1.1 openjdk@11\n",
    "# Create mapr user\n",
    "sudo sysadminctl -addUser mapr -fullName 'DF Admin' -UID 5000 -GID 5000 -shell /usr/local/bin/bash -home /opt/mapr\n",
    "# launch x86_64 shell\n",
    "arch -x86_64 /usr/local/bin/bash\n",
    "# Update paths/\n",
    "[ -f /opt/mapr/.bashrc ] || rm /opt/mapr/.bashrc\n",
    "echo '[[ -f /opt/mapr/conf/env.sh ]] && export JAVA_HOME=\"$(/usr/libexec/java_home) . /opt/mapr/conf/env.sh\"' >> /opt/mapr/.bashrc\n",
    "echo 'export PATH=\"/usr/local/opt/openssl@1.1/bin:$PATH\"' >> /opt/mapr/.bashrc\n",
    "echo 'export LDFLAGS=\"-L/usr/local/opt/openssl@1.1/lib\"' >> /opt/mapr/.bashrc\n",
    "sudo ln -sfn /usr/local/opt/openjdk@11/libexec/openjdk.jdk /Library/Java/JavaVirtualMachines/openjdk-11.jdk\n",
    "sudo rm -f /usr/local/lib/libssl.1.1.dylib\n",
    "sudo rm -f /usr/local/lib/libcrypto.1.1.dylib\n",
    "sudo ln -s /usr/local/Cellar/openssl@1.1/1.1.1q/lib/libssl.1.1.dylib /usr/local/lib/\n",
    "sudo ln -s /usr/local/Cellar/openssl@1.1/1.1.1q/lib/libcrypto.1.1.dylib /usr/local/lib/\n",
    "\n",
    "arch -x86_64 /usr/local/bin/brew install OpenSSL@1.1\n",
    "OPENSSL_INSTALLED_LOCATION=`/usr/local/bin/brew --prefix openssl@1.1`\n",
    "OPENSSL_LIBRARY_PATH=${OPENSSL_INSTALLED_LOCATION}/lib\n",
    "OPENSSL_PATH=${OPENSSL_INSTALLED_LOCATION}/bin\n",
    "export PATH=${OPENSSL_PATH}:${PATH}\n",
    "LD_LIBRARY_PATH=${OPENSSL_LIBRARY_PATH}:${LD_LIBRARY_PATH}\n",
    "export JAVA_HOME=$(/usr/libexec/java_home)\n",
    "\n",
    "echo Done\n"
   ]
  },
  {
   "cell_type": "code",
   "execution_count": null,
   "metadata": {},
   "outputs": [],
   "source": [
    "# Copy secure files\n",
    "\n",
    "!sudo cp ssl_truststore /opt/mapr/conf/\n",
    "print(\"Done\")\n"
   ]
  },
  {
   "cell_type": "code",
   "execution_count": null,
   "metadata": {},
   "outputs": [],
   "source": [
    "# Configure client\n",
    "\n",
    "!echo configuring for {CLUSTER_NAME} on {REMOTE_HOST}\n",
    "!arch -x86_64 sudo /usr/local/bin/bash /opt/mapr/server/configure.sh -c -N {CLUSTER_NAME} -C {REMOTE_HOST}:7222 -HS {REMOTE_HOST} -secure -a\n",
    "!arch -x86_64 sudo /usr/local/bin/bash -c \"echo mapr | /opt/mapr/bin/maprlogin password -user mapr -cluster {CLUSTER_NAME}\"\n",
    "print(\"Done\")"
   ]
  },
  {
   "cell_type": "markdown",
   "metadata": {},
   "source": [
    "### Client configured"
   ]
  }
 ],
 "metadata": {
  "kernelspec": {
   "display_name": "Python 3.9.13 64-bit",
   "language": "python",
   "name": "python3"
  },
  "language_info": {
   "codemirror_mode": {
    "name": "ipython",
    "version": 3
   },
   "file_extension": ".py",
   "mimetype": "text/x-python",
   "name": "python",
   "nbconvert_exporter": "python",
   "pygments_lexer": "ipython3",
   "version": "3.9.13"
  },
  "orig_nbformat": 4,
  "vscode": {
   "interpreter": {
    "hash": "b0fa6594d8f4cbf19f97940f81e996739fb7646882a419484c72d19e05852a7e"
   }
  }
 },
 "nbformat": 4,
 "nbformat_minor": 2
}
