{
 "cells": [
  {
   "cell_type": "code",
   "execution_count": null,
   "metadata": {},
   "outputs": [],
   "source": [
    "# Pre-requisites\n",
    "REMOTE_HOST = \"ec2-13-40-112-81.eu-west-2.compute.amazonaws.com\"\n",
    "BASHCMD = \"arch -x86_64 sudo /usr/local/bin/bash -c\"\n",
    "# Check client install\n",
    "![ -f /opt/mapr/bin/mapr ] || (echo \"client is not installed\" && exit 1)\n",
    "\n",
    "# Check client configuration\n",
    "response = !grep {REMOTE_HOST} /opt/mapr/conf/mapr-clusters.conf | cut -d' ' -f1\n",
    "if len(response) > 0:\n",
    "  CLUSTER_NAME=response[0]\n",
    "  print(CLUSTER_NAME, \"configured\")\n",
    "else:\n",
    "  print(\"Cluster is not configured\")\n",
    "  exit\n",
    "\n",
    "print(\"Done\")"
   ]
  },
  {
   "cell_type": "code",
   "execution_count": null,
   "metadata": {},
   "outputs": [],
   "source": [
    "!{BASHCMD} \"hadoop fs -ls /\""
   ]
  },
  {
   "cell_type": "code",
   "execution_count": null,
   "metadata": {},
   "outputs": [],
   "source": [
    "# ![ -f delta-core_2.12-1.2.0.jar ] wget https://repo1.maven.org/maven2/io/delta/delta-core_2.12/1.2.0/delta-core_2.12-1.2.0.jar\n",
    "# !ping 172.31.0.36\n",
    "!cat /etc/hosts \n"
   ]
  },
  {
   "cell_type": "markdown",
   "metadata": {},
   "source": [
    "Continue with next page"
   ]
  }
 ],
 "metadata": {
  "kernelspec": {
   "display_name": "Python 3.9.13 64-bit",
   "language": "python",
   "name": "python3"
  },
  "language_info": {
   "codemirror_mode": {
    "name": "ipython",
    "version": 3
   },
   "file_extension": ".py",
   "mimetype": "text/x-python",
   "name": "python",
   "nbconvert_exporter": "python",
   "pygments_lexer": "ipython3",
   "version": "3.9.13"
  },
  "orig_nbformat": 4,
  "vscode": {
   "interpreter": {
    "hash": "b0fa6594d8f4cbf19f97940f81e996739fb7646882a419484c72d19e05852a7e"
   }
  }
 },
 "nbformat": 4,
 "nbformat_minor": 2
}
