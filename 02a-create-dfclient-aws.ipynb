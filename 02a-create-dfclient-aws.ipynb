{
 "cells": [
  {
   "cell_type": "markdown",
   "metadata": {},
   "source": [
    "# Create client machine on AWS"
   ]
  },
  {
   "cell_type": "code",
   "execution_count": null,
   "metadata": {},
   "outputs": [],
   "source": [
    "## Settings\n",
    "\n",
    "import os\n",
    "import boto3\n",
    "\n",
    "DF_HOST = \"ec2-35-178-253-67.eu-west-2.compute.amazonaws.com\"\n",
    "CLUSTER_NAME = \"demo.df.io\"\n",
    "TAG_PREFIX = \"dfdemo\"\n",
    "KEY_PAIR_NAME = TAG_PREFIX + \"-ez-keypair\"\n",
    "SECURITY_GROUP_NAME = TAG_PREFIX + \"-ez-securitygroup\"\n",
    "INSTANCE_NAME = TAG_PREFIX + \"-ez-node\"\n",
    "KEYFILE = TAG_PREFIX + \"_key.pem\"\n",
    "\n",
    "ec2 = boto3.client('ec2')\n",
    "\n",
    "response = ec2.describe_security_groups(GroupNames=[SECURITY_GROUP_NAME])\n",
    "SECURITY_GROUP_ID = response.get(\"SecurityGroups\", [{}])[0].get(\"GroupId\", \"\")\n",
    "\n",
    "print(\"Done\")\n"
   ]
  },
  {
   "cell_type": "code",
   "execution_count": null,
   "metadata": {},
   "outputs": [],
   "source": [
    "## Create AWS instance\n",
    "response = ec2.run_instances(\n",
    "    ImageId=\"ami-0bd2099338bc55e6d\",\n",
    "    MinCount=1,\n",
    "    MaxCount=1,\n",
    "    InstanceType=\"t2.micro\",\n",
    "    KeyName=KEY_PAIR_NAME,\n",
    "    SecurityGroupIds=[\n",
    "            SECURITY_GROUP_ID,\n",
    "    ],\n",
    "    BlockDeviceMappings=[\n",
    "        {\n",
    "            'DeviceName': \"/dev/sda1\",\n",
    "            'Ebs': {\n",
    "                'DeleteOnTermination': True,\n",
    "                'VolumeSize': 30,\n",
    "                'VolumeType': \"gp2\"\n",
    "            }\n",
    "        },\n",
    "    ],\n",
    "    TagSpecifications=[\n",
    "        {\n",
    "            'ResourceType': \"instance\",\n",
    "            'Tags': [\n",
    "                {\n",
    "                    'Key': \"Name\",\n",
    "                    'Value': TAG_PREFIX + \"-client\"\n",
    "                },\n",
    "            ]\n",
    "        },\n",
    "    ],\n",
    ")\n",
    "for i in response['Instances']:\n",
    "    print(\"Waiting for instance %s to start...\" % i['InstanceId'])\n",
    "    ec2.get_waiter(\"instance_status_ok\").wait(\n",
    "        InstanceIds=[i['InstanceId']])\n",
    "    INSTANCE_ID = i['InstanceId']\n",
    "\n",
    "instance = ec2.describe_instances(InstanceIds=[INSTANCE_ID]).get(\n",
    "    'Reservations', [{}])[0].get('Instances', '')[0]\n",
    "\n",
    "print(instance['PublicDnsName'] + \" is ready\")\n",
    "\n",
    "print(\"Done\")\n"
   ]
  },
  {
   "cell_type": "code",
   "execution_count": null,
   "metadata": {},
   "outputs": [],
   "source": [
    "# Allow connection from client to host\n",
    "\n",
    "data = ec2.authorize_security_group_ingress(\n",
    "    GroupId=SECURITY_GROUP_ID,\n",
    "    IpPermissions=[\n",
    "        {'IpProtocol': \"-1\",\n",
    "         'IpRanges': [{'CidrIp': instance['PublicIpAddress']+'/32'}]}\n",
    "    ])\n",
    "print(\"Ingress Successfully Set for IP: %s\" %\n",
    "      data.get(\"SecurityGroupRules\", [{}])[0].get('CidrIpv4', ''))\n"
   ]
  },
  {
   "cell_type": "code",
   "execution_count": null,
   "metadata": {},
   "outputs": [],
   "source": [
    "# Helper functions\n",
    "\n",
    "from paramiko import SSHClient, AutoAddPolicy, RSAKey\n",
    "\n",
    "ip_address = instance['PublicIpAddress']\n",
    "username = 'ubuntu'\n",
    "\n",
    "def run_ssh_command(command):\n",
    "  client = SSHClient()\n",
    "  client.set_missing_host_key_policy(AutoAddPolicy())\n",
    "  try:\n",
    "      client.connect(ip_address, port=22,\n",
    "                     username=username, key_filename=KEYFILE)\n",
    "\n",
    "      print(\"Running\", command)\n",
    "      stdin, stdout, stderr = client.exec_command(command)\n",
    "      for line in iter(stdout.readline, \"\"):\n",
    "          yield line\n",
    "      for line in iter(stderr.readline, \"\"):\n",
    "          yield line\n",
    "\n",
    "      stdin.close()\n",
    "      stdout.close()\n",
    "      stderr.close()\n",
    "      client.close()\n",
    "\n",
    "  except BaseException as e:\n",
    "      print(e)\n",
    "\n",
    "\n",
    "print(\"Done\")\n"
   ]
  },
  {
   "cell_type": "code",
   "execution_count": null,
   "metadata": {},
   "outputs": [],
   "source": [
    "# Get ssl_truststore\n",
    " \n",
    "prvdns = instance['PrivateDnsName']\n",
    "prvip = instance['PrivateIpAddress']\n",
    "pubip = instance['PublicIpAddress']\n",
    "pubdns = instance['PublicDnsName']\n",
    "\n",
    "!echo $pubip $prvip $prvdns | sudo tee -a /etc/hosts > /dev/null\n",
    "\n",
    "client = SSHClient()\n",
    "client.set_missing_host_key_policy(AutoAddPolicy())\n",
    "client.connect(ip_address, port=22,\n",
    "               username='ubuntu', key_filename=KEYFILE)\n",
    "sftp = client.open_sftp()\n",
    "\n",
    "print(\"copy ssl_truststore\")\n",
    "sftp.put(localpath=\"./ssl_truststore\", remotepath=\"/home/ubuntu/ssl_truststore\")\n",
    "\n",
    "sftp.close()\n",
    "client.close()\n",
    "\n",
    "print(\"Done\")"
   ]
  },
  {
   "cell_type": "code",
   "execution_count": null,
   "metadata": {},
   "outputs": [],
   "source": [
    "# Install client\n",
    "commands = [\n",
    "  'wget -O - https://package.mapr.hpe.com/releases/pub/maprgpg.key | sudo apt-key add -',\n",
    "  'echo \"deb https://package.mapr.hpe.com/releases/v7.0.0/ubuntu binary bionic\" | sudo tee -a /etc/apt/sources.list',\n",
    "  'echo \"deb https://package.mapr.hpe.com/releases/MEP/MEP-8.1.0/ubuntu binary bionic\" | sudo tee -a /etc/apt/sources.list',\n",
    "  'DEBIAN_FRONTEND=noninteractive sudo apt update; sudo apt upgrade -y',\n",
    "  'DEBIAN_FRONTEND=noninteractive sudo apt install -y openjdk-11-jdk',\n",
    "  'DEBIAN_FRONTEND=noninteractive sudo apt install -y mapr-client',\n",
    "  \"[ -f /var/run/reboot-required ] && echo reboot and continue\",\n",
    "]\n",
    "for command in commands:\n",
    "  for line in run_ssh_command(command):\n",
    "      print(line.rstrip('\\n'))\n",
    "\n",
    "print(\"Done\")"
   ]
  },
  {
   "cell_type": "code",
   "execution_count": null,
   "metadata": {},
   "outputs": [],
   "source": [
    "# Configure client\n",
    "\n",
    "print('configuring for {} on {}'.format(CLUSTER_NAME, DF_HOST))\n",
    "\n",
    "sedptrn = \"'/%s/d'\" % CLUSTER_NAME\n",
    "commands = [\n",
    "    'id mapr || (sudo groupadd -g 5000 mapr; sudo useradd -m -u 5000 -g 5000 -d /home/mapr -s /bin/bash mapr; sudo usermod -a -G sudo mapr)',\n",
    "    'echo \"mapr:mapr\" | sudo chpasswd',\n",
    "    '[ -d /mapr ] || sudo mkdir /mapr',\n",
    "    '[ -d /data ] || sudo mkdir /data',\n",
    "    'sed ' + sedptrn +\n",
    "    ' /opt/mapr/conf/mapr-clusters.conf | sudo tee /opt/mapr/conf/mapr-clusters.conf',\n",
    "    'sed ' + sedptrn +\n",
    "    ' /etc/hosts | sudo tee /etc/hosts',\n",
    "    'echo \"{} {}\" | sudo tee -a /etc/hosts'.format(\n",
    "        instance['PublicIpAddress'], \n",
    "        CLUSTER_NAME),\n",
    "    \n",
    "  'sudo cp ssl_truststore /opt/mapr/conf/',\n",
    "  'sudo /opt/mapr/server/configure.sh -c -N {} -C {}:7222 -HS {} -secure'.format(\n",
    "      CLUSTER_NAME,\n",
    "      DF_HOST,\n",
    "      DF_HOST),\n",
    "  'echo mapr | /opt/mapr/bin/maprlogin password -user mapr -cluster {}'.format(\n",
    "      CLUSTER_NAME),\n",
    "  # 'sudo /opt/mapr/hadoop/hadoop-2.7.6/bin/configure.sh --unsecure -EC \"-HS {} --client\"'.format(\n",
    "  #       instance['PublicIpAddress'])\n",
    "]\n",
    "\n",
    "for command in commands:\n",
    "  for line in run_ssh_command(command):\n",
    "      print(line.rstrip('\\n'))\n",
    "\n",
    "print(\"Done\")"
   ]
  },
  {
   "cell_type": "markdown",
   "metadata": {},
   "source": [
    "### Client configured"
   ]
  },
  {
   "cell_type": "code",
   "execution_count": null,
   "metadata": {},
   "outputs": [],
   "source": [
    "print(instance['PrivateIpAddress'])"
   ]
  },
  {
   "cell_type": "code",
   "execution_count": null,
   "metadata": {},
   "outputs": [],
   "source": []
  }
 ],
 "metadata": {
  "kernelspec": {
   "display_name": "Python 3.9.13 64-bit",
   "language": "python",
   "name": "python3"
  },
  "language_info": {
   "codemirror_mode": {
    "name": "ipython",
    "version": 3
   },
   "file_extension": ".py",
   "mimetype": "text/x-python",
   "name": "python",
   "nbconvert_exporter": "python",
   "pygments_lexer": "ipython3",
   "version": "3.10.6"
  },
  "orig_nbformat": 4,
  "vscode": {
   "interpreter": {
    "hash": "b0fa6594d8f4cbf19f97940f81e996739fb7646882a419484c72d19e05852a7e"
   }
  }
 },
 "nbformat": 4,
 "nbformat_minor": 2
}
